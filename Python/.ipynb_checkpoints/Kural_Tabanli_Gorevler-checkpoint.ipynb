{
 "cells": [
  {
   "cell_type": "markdown",
   "id": "f97358f7",
   "metadata": {},
   "source": [
    "## Import Library"
   ]
  },
  {
   "cell_type": "code",
   "execution_count": 168,
   "id": "2890c4b7",
   "metadata": {},
   "outputs": [],
   "source": [
    "import pandas as pd\n",
    "import numpy as np\n",
    "import matplotlib.pyplot as plt\n",
    "import seaborn as sns"
   ]
  },
  {
   "cell_type": "code",
   "execution_count": 169,
   "id": "59229390",
   "metadata": {},
   "outputs": [],
   "source": [
    "df = pd.read_csv('persona.csv')"
   ]
  },
  {
   "cell_type": "markdown",
   "id": "c6ffc854-f76b-4abb-8912-25c48c9aaed3",
   "metadata": {},
   "source": [
    "### GÖREV - 1 Aşağıdaki Soruları Yanıtlayınız"
   ]
  },
  {
   "cell_type": "markdown",
   "id": "8bb454e2",
   "metadata": {},
   "source": [
    " #### Soru 1: persona.csv dosyasını okutunuz ve veri seti ile ilgili genel bilgileri gösteriniz."
   ]
  },
  {
   "cell_type": "code",
   "execution_count": 170,
   "id": "37320da8",
   "metadata": {},
   "outputs": [
    {
     "name": "stdout",
     "output_type": "stream",
     "text": [
      "<class 'pandas.core.frame.DataFrame'>\n",
      "Index: 5000 entries, 0 to 4999\n",
      "Data columns (total 5 columns):\n",
      " #   Column   Non-Null Count  Dtype \n",
      "---  ------   --------------  ----- \n",
      " 0   PRICE    5000 non-null   int64 \n",
      " 1   SOURCE   5000 non-null   object\n",
      " 2   SEX      5000 non-null   object\n",
      " 3   COUNTRY  5000 non-null   object\n",
      " 4   AGE      5000 non-null   int64 \n",
      "dtypes: int64(2), object(3)\n",
      "memory usage: 234.4+ KB\n"
     ]
    }
   ],
   "source": [
    "df.info()"
   ]
  },
  {
   "cell_type": "code",
   "execution_count": 171,
   "id": "842d067b",
   "metadata": {},
   "outputs": [
    {
     "data": {
      "text/html": [
       "<div>\n",
       "<style scoped>\n",
       "    .dataframe tbody tr th:only-of-type {\n",
       "        vertical-align: middle;\n",
       "    }\n",
       "\n",
       "    .dataframe tbody tr th {\n",
       "        vertical-align: top;\n",
       "    }\n",
       "\n",
       "    .dataframe thead th {\n",
       "        text-align: right;\n",
       "    }\n",
       "</style>\n",
       "<table border=\"1\" class=\"dataframe\">\n",
       "  <thead>\n",
       "    <tr style=\"text-align: right;\">\n",
       "      <th></th>\n",
       "      <th>PRICE</th>\n",
       "      <th>SOURCE</th>\n",
       "      <th>SEX</th>\n",
       "      <th>COUNTRY</th>\n",
       "      <th>AGE</th>\n",
       "    </tr>\n",
       "  </thead>\n",
       "  <tbody>\n",
       "    <tr>\n",
       "      <th>0</th>\n",
       "      <td>39</td>\n",
       "      <td>android</td>\n",
       "      <td>male</td>\n",
       "      <td>bra</td>\n",
       "      <td>17</td>\n",
       "    </tr>\n",
       "    <tr>\n",
       "      <th>1</th>\n",
       "      <td>39</td>\n",
       "      <td>android</td>\n",
       "      <td>male</td>\n",
       "      <td>bra</td>\n",
       "      <td>17</td>\n",
       "    </tr>\n",
       "    <tr>\n",
       "      <th>2</th>\n",
       "      <td>49</td>\n",
       "      <td>android</td>\n",
       "      <td>male</td>\n",
       "      <td>bra</td>\n",
       "      <td>17</td>\n",
       "    </tr>\n",
       "    <tr>\n",
       "      <th>3</th>\n",
       "      <td>29</td>\n",
       "      <td>android</td>\n",
       "      <td>male</td>\n",
       "      <td>tur</td>\n",
       "      <td>17</td>\n",
       "    </tr>\n",
       "    <tr>\n",
       "      <th>4</th>\n",
       "      <td>49</td>\n",
       "      <td>android</td>\n",
       "      <td>male</td>\n",
       "      <td>tur</td>\n",
       "      <td>17</td>\n",
       "    </tr>\n",
       "  </tbody>\n",
       "</table>\n",
       "</div>"
      ],
      "text/plain": [
       "   PRICE   SOURCE   SEX COUNTRY  AGE\n",
       "0     39  android  male     bra   17\n",
       "1     39  android  male     bra   17\n",
       "2     49  android  male     bra   17\n",
       "3     29  android  male     tur   17\n",
       "4     49  android  male     tur   17"
      ]
     },
     "execution_count": 171,
     "metadata": {},
     "output_type": "execute_result"
    }
   ],
   "source": [
    "df.head()"
   ]
  },
  {
   "cell_type": "code",
   "execution_count": 172,
   "id": "ce31a835-808d-4a1d-888a-0abcda60e754",
   "metadata": {},
   "outputs": [
    {
     "data": {
      "text/html": [
       "<div>\n",
       "<style scoped>\n",
       "    .dataframe tbody tr th:only-of-type {\n",
       "        vertical-align: middle;\n",
       "    }\n",
       "\n",
       "    .dataframe tbody tr th {\n",
       "        vertical-align: top;\n",
       "    }\n",
       "\n",
       "    .dataframe thead th {\n",
       "        text-align: right;\n",
       "    }\n",
       "</style>\n",
       "<table border=\"1\" class=\"dataframe\">\n",
       "  <thead>\n",
       "    <tr style=\"text-align: right;\">\n",
       "      <th></th>\n",
       "      <th>PRICE</th>\n",
       "      <th>AGE</th>\n",
       "    </tr>\n",
       "  </thead>\n",
       "  <tbody>\n",
       "    <tr>\n",
       "      <th>count</th>\n",
       "      <td>5000.000000</td>\n",
       "      <td>5000.000000</td>\n",
       "    </tr>\n",
       "    <tr>\n",
       "      <th>mean</th>\n",
       "      <td>34.132000</td>\n",
       "      <td>23.581400</td>\n",
       "    </tr>\n",
       "    <tr>\n",
       "      <th>std</th>\n",
       "      <td>12.464897</td>\n",
       "      <td>8.995908</td>\n",
       "    </tr>\n",
       "    <tr>\n",
       "      <th>min</th>\n",
       "      <td>9.000000</td>\n",
       "      <td>15.000000</td>\n",
       "    </tr>\n",
       "    <tr>\n",
       "      <th>25%</th>\n",
       "      <td>29.000000</td>\n",
       "      <td>17.000000</td>\n",
       "    </tr>\n",
       "    <tr>\n",
       "      <th>50%</th>\n",
       "      <td>39.000000</td>\n",
       "      <td>21.000000</td>\n",
       "    </tr>\n",
       "    <tr>\n",
       "      <th>75%</th>\n",
       "      <td>39.000000</td>\n",
       "      <td>27.000000</td>\n",
       "    </tr>\n",
       "    <tr>\n",
       "      <th>max</th>\n",
       "      <td>59.000000</td>\n",
       "      <td>66.000000</td>\n",
       "    </tr>\n",
       "  </tbody>\n",
       "</table>\n",
       "</div>"
      ],
      "text/plain": [
       "             PRICE          AGE\n",
       "count  5000.000000  5000.000000\n",
       "mean     34.132000    23.581400\n",
       "std      12.464897     8.995908\n",
       "min       9.000000    15.000000\n",
       "25%      29.000000    17.000000\n",
       "50%      39.000000    21.000000\n",
       "75%      39.000000    27.000000\n",
       "max      59.000000    66.000000"
      ]
     },
     "execution_count": 172,
     "metadata": {},
     "output_type": "execute_result"
    }
   ],
   "source": [
    "df.describe()"
   ]
  },
  {
   "cell_type": "markdown",
   "id": "4d543846-e3c2-424e-a10c-cbbf22ae5dee",
   "metadata": {},
   "source": [
    "#### Soru 2: Kaç unique SOURCE vardır? Frekansları nedir?"
   ]
  },
  {
   "cell_type": "code",
   "execution_count": 226,
   "id": "3f432468",
   "metadata": {},
   "outputs": [
    {
     "data": {
      "text/plain": [
       "SOURCE\n",
       "android    2974\n",
       "ios        2026\n",
       "Name: count, dtype: int64"
      ]
     },
     "execution_count": 226,
     "metadata": {},
     "output_type": "execute_result"
    }
   ],
   "source": [
    "df['SOURCE'].value_counts()"
   ]
  },
  {
   "cell_type": "markdown",
   "id": "a224b378-2059-4e05-a399-79fcde937e72",
   "metadata": {},
   "source": [
    "#### Soru 3: Kaç unique PRICE vardır?"
   ]
  },
  {
   "cell_type": "code",
   "execution_count": 225,
   "id": "9346ed48",
   "metadata": {},
   "outputs": [
    {
     "data": {
      "text/plain": [
       "array([39, 49, 29, 19, 59,  9])"
      ]
     },
     "execution_count": 225,
     "metadata": {},
     "output_type": "execute_result"
    }
   ],
   "source": [
    "df['PRICE'].unique()\n",
    "#df['PRICE'].nunique()"
   ]
  },
  {
   "cell_type": "markdown",
   "id": "facc0d2f-dd0a-4dd2-9a0b-b759217f5fdb",
   "metadata": {},
   "source": [
    "#### Soru 4: Hangi PRICE'dan kaçar tane satış gerçekleşmiş"
   ]
  },
  {
   "cell_type": "code",
   "execution_count": 175,
   "id": "b372918d",
   "metadata": {},
   "outputs": [
    {
     "data": {
      "image/png": "[encoded data removed]",
      "text/plain": [
       "<Figure size 1000x600 with 1 Axes>"
      ]
     },
     "metadata": {},
     "output_type": "display_data"
    }
   ],
   "source": [
    "df['PRICE'].value_counts()\n",
    "\n",
    "plt.figure(figsize=(10, 6))\n",
    "sns.histplot(df['PRICE'], kde=True)\n",
    "plt.title('PRICE Dağılımı')\n",
    "plt.show()"
   ]
  },
  {
   "cell_type": "markdown",
   "id": "15c9051c-7085-4776-b4bf-5329f2636d1c",
   "metadata": {},
   "source": [
    "#### Soru 5: Hangi ülkeden kaçar tane satış olmuş"
   ]
  },
  {
   "cell_type": "code",
   "execution_count": 176,
   "id": "e9969934-71e7-41b7-a333-71182ead3beb",
   "metadata": {},
   "outputs": [
    {
     "data": {
      "image/png": "[encoded data removed]",
      "text/plain": [
       "<Figure size 1000x600 with 1 Axes>"
      ]
     },
     "metadata": {},
     "output_type": "display_data"
    }
   ],
   "source": [
    "country_sales = df['COUNTRY'].value_counts()\n",
    "country_sales\n",
    "\n",
    "plt.figure(figsize=(10, 6))\n",
    "country_sales.plot(kind='bar')\n",
    "plt.title('Ülkelere Göre Satış Sayıları')\n",
    "plt.ylabel('Satış Sayısı')\n",
    "plt.show()"
   ]
  },
  {
   "cell_type": "markdown",
   "id": "367cdaf9-7053-4070-bbf1-a0c8a3d752c6",
   "metadata": {},
   "source": [
    "#### Soru 6: Ülkelere göre satışlardan toplam ne kadar kazanılmış"
   ]
  },
  {
   "cell_type": "code",
   "execution_count": 177,
   "id": "774c5af4-3216-4d73-a2aa-bb9e5ba7f228",
   "metadata": {},
   "outputs": [
    {
     "data": {
      "image/png": "[encoded data removed]",
      "text/plain": [
       "<Figure size 1000x600 with 1 Axes>"
      ]
     },
     "metadata": {},
     "output_type": "display_data"
    }
   ],
   "source": [
    "country_revenue = df.groupby('COUNTRY')['PRICE'].sum()\n",
    "country_revenue\n",
    "\n",
    "plt.figure(figsize=(10, 6))\n",
    "country_revenue.plot(kind='bar')\n",
    "plt.title('Ülkelere Göre Toplam Kazanç')\n",
    "plt.ylabel('Toplam Kazanç')\n",
    "plt.show()"
   ]
  },
  {
   "cell_type": "markdown",
   "id": "fb823a9a-8b2a-4fc2-8d06-39c379f536a6",
   "metadata": {},
   "source": [
    "#### Soru 7: SOURCE türlerine göre satış sayıları"
   ]
  },
  {
   "cell_type": "code",
   "execution_count": 178,
   "id": "60124deb-5f75-4495-af77-88eef787ebd3",
   "metadata": {},
   "outputs": [
    {
     "data": {
      "text/plain": [
       "SOURCE\n",
       "android    2974\n",
       "ios        2026\n",
       "Name: count, dtype: int64"
      ]
     },
     "execution_count": 178,
     "metadata": {},
     "output_type": "execute_result"
    }
   ],
   "source": [
    "df['SOURCE'].value_counts()"
   ]
  },
  {
   "cell_type": "markdown",
   "id": "1fbcd851-20e0-453f-8589-23d42d6f34f8",
   "metadata": {},
   "source": [
    "#### Soru 8: Ülkelere göre PRICE ortalamaları\n"
   ]
  },
  {
   "cell_type": "code",
   "execution_count": 179,
   "id": "d504bbf6-0f42-4007-83b3-327201470db9",
   "metadata": {},
   "outputs": [
    {
     "data": {
      "text/plain": [
       "COUNTRY\n",
       "bra    34.327540\n",
       "can    33.608696\n",
       "deu    34.032967\n",
       "fra    33.587459\n",
       "tur    34.787140\n",
       "usa    34.007264\n",
       "Name: PRICE, dtype: float64"
      ]
     },
     "execution_count": 179,
     "metadata": {},
     "output_type": "execute_result"
    }
   ],
   "source": [
    "country_price_mean = df.groupby('COUNTRY')['PRICE'].mean()\n",
    "country_price_mean"
   ]
  },
  {
   "cell_type": "markdown",
   "id": "096726b7-a205-4257-b6c7-3e87a1148897",
   "metadata": {},
   "source": [
    "#### Soru 9: SOURCE'lara göre PRICE ortalamaları"
   ]
  },
  {
   "cell_type": "code",
   "execution_count": 180,
   "id": "f9acf2a0-afd5-4175-bbc6-da3ac8c6b7c0",
   "metadata": {},
   "outputs": [
    {
     "data": {
      "text/plain": [
       "SOURCE\n",
       "android    34.174849\n",
       "ios        34.069102\n",
       "Name: PRICE, dtype: float64"
      ]
     },
     "execution_count": 180,
     "metadata": {},
     "output_type": "execute_result"
    }
   ],
   "source": [
    "source_price_mean = df.groupby('SOURCE')['PRICE'].mean()\n",
    "source_price_mean"
   ]
  },
  {
   "cell_type": "markdown",
   "id": "fe1590ec-589e-45c7-b614-f0b711074f04",
   "metadata": {},
   "source": [
    "#### Soru 10: COUNTRY-SOURCE kırılımında PRICE ortalamaları"
   ]
  },
  {
   "cell_type": "code",
   "execution_count": 181,
   "id": "0c6460cb-ae37-4f5c-8b70-74b02bdff5c3",
   "metadata": {},
   "outputs": [
    {
     "data": {
      "image/png": "[encoded data removed]",
      "text/plain": [
       "<Figure size 1200x800 with 2 Axes>"
      ]
     },
     "metadata": {},
     "output_type": "display_data"
    }
   ],
   "source": [
    "country_source_price_mean = df.groupby(['COUNTRY', 'SOURCE'])['PRICE'].mean().unstack()\n",
    "country_source_price_mean\n",
    "\n",
    "plt.figure(figsize=(12, 8))\n",
    "sns.heatmap(country_source_price_mean, annot=True, cmap='YlGnBu')\n",
    "plt.title('COUNTRY-SOURCE Kırılımında Ortalama PRICE')\n",
    "plt.show()\n"
   ]
  },
  {
   "cell_type": "markdown",
   "id": "7ff1ceb7-54ac-4da8-9289-4c42c7cf6543",
   "metadata": {},
   "source": [
    "### GÖREV - 1'in YORUMU\n",
    "\n",
    "1. Veri seti genel bilgileri:\n",
    "Veri setimiz 5000 satır ve 5 sütundan oluşuyor. Sütunlar PRICE, SOURCE, SEX, COUNTRY ve AGE bilgilerini içeriyor. Bu, bize müşterilerin demografik bilgileri ve satın alma davranışları hakkında kapsamlı bir bakış açısı sunuyor.\n",
    "\n",
    "2. Unique SOURCE sayısı:\n",
    "Veri setinde 2 farklı SOURCE var: Android ve IOS. Bu, müşterilerin hangi mobil platformları kullandığını gösteriyor.\n",
    "\n",
    "3. Unique PRICE sayısı:\n",
    "Veri setinde 6 farklı fiyat noktası bulunuyor. Bu, şirketin sınırlı sayıda fiyat seçeneği sunduğunu gösteriyor, muhtemelen farklı ürün veya hizmet paketleri için.\n",
    "\n",
    "4. PRICE dağılımı:\n",
    "En çok satış yapılan fiyat noktaları 29, 39 ve 49 birim olarak görünüyor. Bu, orta seviye fiyat noktalarının daha popüler olduğunu gösteriyor.\n",
    "\n",
    "5. Ülkelere göre satış sayıları:\n",
    "En çok satış yapılan ülkeler sırasıyla USA, BRA ve FRA. Bu bilgi, şirketin hangi pazarlarda güçlü olduğunu ve potansiyel büyüme alanlarını gösteriyor.\n",
    "\n",
    "6. Ülkelere göre toplam kazanç:\n",
    "USA en yüksek toplam kazancı sağlıyor, ardından BRA ve FRA geliyor. Bu sıralama, satış sayılarıyla paralellik gösteriyor, ancak ortalama satış fiyatları ülkeler arasında farklılık gösterebilir.\n",
    "\n",
    "7. SOURCE türlerine göre satış sayıları:\n",
    "Android ve IOS arasındaki satış dağılımı neredeyse eşit. Bu, şirketin her iki platformda da güçlü bir varlığa sahip olduğunu gösteriyor.\n",
    "\n",
    "8. Ülkelere göre PRICE ortalamaları:\n",
    "Ülkeler arasında ortalama fiyatlarda farklılıklar var. Bu, farklı pazarlarda farklı fiyatlandırma stratejileri uygulandığını gösteriyor olabilir.\n",
    "\n",
    "9. SOURCE'lara göre PRICE ortalamaları:\n",
    "IOS kullanıcıları ortalama olarak daha yüksek fiyatlı ürünler satın alıyor gibi görünüyor. Bu, IOS kullanıcılarının daha yüksek alım gücüne sahip olabileceğini veya daha premium ürünleri tercih ettiğini gösteriyor olabilir.\n",
    "\n",
    "10. COUNTRY-SOURCE kırılımında PRICE ortalamaları:\n",
    "Her ülkede IOS ve Android kullanıcıları arasında fiyat farklılıkları var. Bu, platform bazlı fiyatlandırma stratejilerinin ülkelere göre özelleştirilebileceğini gösteriyor.\n",
    "\n",
    "Genel Çıkarımlar:\n",
    "1. Şirket, özellikle USA, BRA ve FRA pazarlarında güçlü bir varlığa sahip.\n",
    "2. Orta seviye fiyat noktaları en popüler, ancak premium fiyat noktaları da mevcut.\n",
    "3. Android ve IOS platformları arasında dengeli bir dağılım var, ancak IOS kullanıcıları genellikle daha yüksek fiyatlı ürünler tercih ediyor.\n",
    "4. Ülkeler ve platformlar arasında fiyat farklılıkları, hedefli pazarlama ve fiyatlandırma stratejileri için fırsat sunuyor.\n",
    "5. Yaş ve cinsiyet gibi demografik faktörler de satın alma davranışlarını etkileyebilir, bu nedenle daha detaylı analizler yapılabilir.\n",
    "\n",
    "Bu analizler, şirketin pazarlama stratejilerini optimize etmesi, ürün fiyatlandırmasını ayarlaması ve farklı pazar segmentlerine özel yaklaşımlar geliştirmesi için değerli içgörüler sunuyor."
   ]
  },
  {
   "cell_type": "markdown",
   "id": "daa8a4e1-80a2-49af-9788-160e8f0706aa",
   "metadata": {},
   "source": [
    "### Görev 2: COUNTRY, SOURCE, SEX, AGE kırılımında ortalama kazançlar"
   ]
  },
  {
   "cell_type": "code",
   "execution_count": 228,
   "id": "a48ac53b-9c2f-446d-a483-24190b572549",
   "metadata": {},
   "outputs": [
    {
     "data": {
      "text/html": [
       "<div>\n",
       "<style scoped>\n",
       "    .dataframe tbody tr th:only-of-type {\n",
       "        vertical-align: middle;\n",
       "    }\n",
       "\n",
       "    .dataframe tbody tr th {\n",
       "        vertical-align: top;\n",
       "    }\n",
       "\n",
       "    .dataframe thead th {\n",
       "        text-align: right;\n",
       "    }\n",
       "</style>\n",
       "<table border=\"1\" class=\"dataframe\">\n",
       "  <thead>\n",
       "    <tr style=\"text-align: right;\">\n",
       "      <th></th>\n",
       "      <th>COUNTRY</th>\n",
       "      <th>SOURCE</th>\n",
       "      <th>SEX</th>\n",
       "      <th>AGE</th>\n",
       "      <th>PRICE</th>\n",
       "    </tr>\n",
       "  </thead>\n",
       "  <tbody>\n",
       "    <tr>\n",
       "      <th>0</th>\n",
       "      <td>bra</td>\n",
       "      <td>android</td>\n",
       "      <td>female</td>\n",
       "      <td>15</td>\n",
       "      <td>38.714286</td>\n",
       "    </tr>\n",
       "    <tr>\n",
       "      <th>1</th>\n",
       "      <td>bra</td>\n",
       "      <td>android</td>\n",
       "      <td>female</td>\n",
       "      <td>16</td>\n",
       "      <td>35.944444</td>\n",
       "    </tr>\n",
       "    <tr>\n",
       "      <th>2</th>\n",
       "      <td>bra</td>\n",
       "      <td>android</td>\n",
       "      <td>female</td>\n",
       "      <td>17</td>\n",
       "      <td>35.666667</td>\n",
       "    </tr>\n",
       "    <tr>\n",
       "      <th>3</th>\n",
       "      <td>bra</td>\n",
       "      <td>android</td>\n",
       "      <td>female</td>\n",
       "      <td>18</td>\n",
       "      <td>32.255814</td>\n",
       "    </tr>\n",
       "    <tr>\n",
       "      <th>4</th>\n",
       "      <td>bra</td>\n",
       "      <td>android</td>\n",
       "      <td>female</td>\n",
       "      <td>19</td>\n",
       "      <td>35.206897</td>\n",
       "    </tr>\n",
       "  </tbody>\n",
       "</table>\n",
       "</div>"
      ],
      "text/plain": [
       "  COUNTRY   SOURCE     SEX  AGE      PRICE\n",
       "0     bra  android  female   15  38.714286\n",
       "1     bra  android  female   16  35.944444\n",
       "2     bra  android  female   17  35.666667\n",
       "3     bra  android  female   18  32.255814\n",
       "4     bra  android  female   19  35.206897"
      ]
     },
     "execution_count": 228,
     "metadata": {},
     "output_type": "execute_result"
    }
   ],
   "source": [
    "avg_earnings = df.groupby(['COUNTRY', 'SOURCE', 'SEX', 'AGE'])['PRICE'].mean().reset_index()\n",
    "avg_earnings.head()\n"
   ]
  },
  {
   "cell_type": "code",
   "execution_count": null,
   "id": "25ed033e-3bd2-41f4-b67c-64814bd19365",
   "metadata": {},
   "outputs": [],
   "source": []
  },
  {
   "cell_type": "markdown",
   "id": "3120745a-7c43-43aa-856c-951b1f8bac84",
   "metadata": {},
   "source": [
    "### Görev 3: Çıktıyı PRICE'a göre sıralama"
   ]
  },
  {
   "cell_type": "code",
   "execution_count": 204,
   "id": "0cd3eaa6-4a93-4d9a-968d-062240b69cf5",
   "metadata": {},
   "outputs": [
    {
     "data": {
      "text/html": [
       "<div>\n",
       "<style scoped>\n",
       "    .dataframe tbody tr th:only-of-type {\n",
       "        vertical-align: middle;\n",
       "    }\n",
       "\n",
       "    .dataframe tbody tr th {\n",
       "        vertical-align: top;\n",
       "    }\n",
       "\n",
       "    .dataframe thead th {\n",
       "        text-align: right;\n",
       "    }\n",
       "</style>\n",
       "<table border=\"1\" class=\"dataframe\">\n",
       "  <thead>\n",
       "    <tr style=\"text-align: right;\">\n",
       "      <th></th>\n",
       "      <th>COUNTRY</th>\n",
       "      <th>SOURCE</th>\n",
       "      <th>SEX</th>\n",
       "      <th>AGE</th>\n",
       "      <th>PRICE</th>\n",
       "    </tr>\n",
       "  </thead>\n",
       "  <tbody>\n",
       "    <tr>\n",
       "      <th>47</th>\n",
       "      <td>bra</td>\n",
       "      <td>android</td>\n",
       "      <td>male</td>\n",
       "      <td>46</td>\n",
       "      <td>59.0</td>\n",
       "    </tr>\n",
       "    <tr>\n",
       "      <th>290</th>\n",
       "      <td>usa</td>\n",
       "      <td>android</td>\n",
       "      <td>male</td>\n",
       "      <td>36</td>\n",
       "      <td>59.0</td>\n",
       "    </tr>\n",
       "    <tr>\n",
       "      <th>167</th>\n",
       "      <td>fra</td>\n",
       "      <td>android</td>\n",
       "      <td>female</td>\n",
       "      <td>24</td>\n",
       "      <td>59.0</td>\n",
       "    </tr>\n",
       "    <tr>\n",
       "      <th>339</th>\n",
       "      <td>usa</td>\n",
       "      <td>ios</td>\n",
       "      <td>male</td>\n",
       "      <td>32</td>\n",
       "      <td>54.0</td>\n",
       "    </tr>\n",
       "    <tr>\n",
       "      <th>125</th>\n",
       "      <td>deu</td>\n",
       "      <td>android</td>\n",
       "      <td>female</td>\n",
       "      <td>36</td>\n",
       "      <td>49.0</td>\n",
       "    </tr>\n",
       "  </tbody>\n",
       "</table>\n",
       "</div>"
      ],
      "text/plain": [
       "    COUNTRY   SOURCE     SEX  AGE  PRICE\n",
       "47      bra  android    male   46   59.0\n",
       "290     usa  android    male   36   59.0\n",
       "167     fra  android  female   24   59.0\n",
       "339     usa      ios    male   32   54.0\n",
       "125     deu  android  female   36   49.0"
      ]
     },
     "execution_count": 204,
     "metadata": {},
     "output_type": "execute_result"
    }
   ],
   "source": [
    "avg_earnings_sorted = avg_earnings.sort_values('PRICE', ascending=False)\n",
    "avg_earnings_sorted\n",
    "agg_df = avg_earnings_sorted\n",
    "agg_df.head()"
   ]
  },
  {
   "cell_type": "markdown",
   "id": "82cd083b-1041-4cc8-a6c0-e5d3c58bbd2e",
   "metadata": {},
   "source": [
    "### Görev 4: Indekste yer alan isimleri değişken ismine çeviriniz.\n"
   ]
  },
  {
   "cell_type": "code",
   "execution_count": 205,
   "id": "d1d085f5-3442-4cf3-831f-4825f751abdb",
   "metadata": {},
   "outputs": [
    {
     "data": {
      "text/html": [
       "<div>\n",
       "<style scoped>\n",
       "    .dataframe tbody tr th:only-of-type {\n",
       "        vertical-align: middle;\n",
       "    }\n",
       "\n",
       "    .dataframe tbody tr th {\n",
       "        vertical-align: top;\n",
       "    }\n",
       "\n",
       "    .dataframe thead th {\n",
       "        text-align: right;\n",
       "    }\n",
       "</style>\n",
       "<table border=\"1\" class=\"dataframe\">\n",
       "  <thead>\n",
       "    <tr style=\"text-align: right;\">\n",
       "      <th></th>\n",
       "      <th>COUNTRY</th>\n",
       "      <th>SOURCE</th>\n",
       "      <th>SEX</th>\n",
       "      <th>AGE</th>\n",
       "      <th>PRICE</th>\n",
       "    </tr>\n",
       "  </thead>\n",
       "  <tbody>\n",
       "    <tr>\n",
       "      <th>0</th>\n",
       "      <td>bra</td>\n",
       "      <td>android</td>\n",
       "      <td>male</td>\n",
       "      <td>46</td>\n",
       "      <td>59.0</td>\n",
       "    </tr>\n",
       "    <tr>\n",
       "      <th>1</th>\n",
       "      <td>usa</td>\n",
       "      <td>android</td>\n",
       "      <td>male</td>\n",
       "      <td>36</td>\n",
       "      <td>59.0</td>\n",
       "    </tr>\n",
       "    <tr>\n",
       "      <th>2</th>\n",
       "      <td>fra</td>\n",
       "      <td>android</td>\n",
       "      <td>female</td>\n",
       "      <td>24</td>\n",
       "      <td>59.0</td>\n",
       "    </tr>\n",
       "    <tr>\n",
       "      <th>3</th>\n",
       "      <td>usa</td>\n",
       "      <td>ios</td>\n",
       "      <td>male</td>\n",
       "      <td>32</td>\n",
       "      <td>54.0</td>\n",
       "    </tr>\n",
       "    <tr>\n",
       "      <th>4</th>\n",
       "      <td>deu</td>\n",
       "      <td>android</td>\n",
       "      <td>female</td>\n",
       "      <td>36</td>\n",
       "      <td>49.0</td>\n",
       "    </tr>\n",
       "  </tbody>\n",
       "</table>\n",
       "</div>"
      ],
      "text/plain": [
       "  COUNTRY   SOURCE     SEX  AGE  PRICE\n",
       "0     bra  android    male   46   59.0\n",
       "1     usa  android    male   36   59.0\n",
       "2     fra  android  female   24   59.0\n",
       "3     usa      ios    male   32   54.0\n",
       "4     deu  android  female   36   49.0"
      ]
     },
     "execution_count": 205,
     "metadata": {},
     "output_type": "execute_result"
    }
   ],
   "source": [
    "agg_df = agg_df.reset_index(drop=True)\n",
    "agg_df.head()"
   ]
  },
  {
   "cell_type": "code",
   "execution_count": 229,
   "id": "beeaf59c-3eb8-4728-92cd-7d08ec0e9d9f",
   "metadata": {},
   "outputs": [
    {
     "data": {
      "text/plain": [
       "66"
      ]
     },
     "execution_count": 229,
     "metadata": {},
     "output_type": "execute_result"
    }
   ],
   "source": [
    "df['AGE'].max()"
   ]
  },
  {
   "cell_type": "markdown",
   "id": "53bbdb7f-31e0-4c17-b19b-f27d36c70999",
   "metadata": {},
   "source": [
    "### Görev 5: AGE değişkenini kategorik değişkene çevirme\n"
   ]
  },
  {
   "cell_type": "code",
   "execution_count": 206,
   "id": "5a10d14a-9b6b-4d85-ba97-1b732f839350",
   "metadata": {},
   "outputs": [
    {
     "data": {
      "text/html": [
       "<div>\n",
       "<style scoped>\n",
       "    .dataframe tbody tr th:only-of-type {\n",
       "        vertical-align: middle;\n",
       "    }\n",
       "\n",
       "    .dataframe tbody tr th {\n",
       "        vertical-align: top;\n",
       "    }\n",
       "\n",
       "    .dataframe thead th {\n",
       "        text-align: right;\n",
       "    }\n",
       "</style>\n",
       "<table border=\"1\" class=\"dataframe\">\n",
       "  <thead>\n",
       "    <tr style=\"text-align: right;\">\n",
       "      <th></th>\n",
       "      <th>COUNTRY</th>\n",
       "      <th>SOURCE</th>\n",
       "      <th>SEX</th>\n",
       "      <th>AGE</th>\n",
       "      <th>PRICE</th>\n",
       "      <th>AGE_CAT</th>\n",
       "    </tr>\n",
       "  </thead>\n",
       "  <tbody>\n",
       "    <tr>\n",
       "      <th>0</th>\n",
       "      <td>bra</td>\n",
       "      <td>android</td>\n",
       "      <td>male</td>\n",
       "      <td>46</td>\n",
       "      <td>59.0</td>\n",
       "      <td>41_70</td>\n",
       "    </tr>\n",
       "    <tr>\n",
       "      <th>1</th>\n",
       "      <td>usa</td>\n",
       "      <td>android</td>\n",
       "      <td>male</td>\n",
       "      <td>36</td>\n",
       "      <td>59.0</td>\n",
       "      <td>31_40</td>\n",
       "    </tr>\n",
       "    <tr>\n",
       "      <th>2</th>\n",
       "      <td>fra</td>\n",
       "      <td>android</td>\n",
       "      <td>female</td>\n",
       "      <td>24</td>\n",
       "      <td>59.0</td>\n",
       "      <td>24_30</td>\n",
       "    </tr>\n",
       "    <tr>\n",
       "      <th>3</th>\n",
       "      <td>usa</td>\n",
       "      <td>ios</td>\n",
       "      <td>male</td>\n",
       "      <td>32</td>\n",
       "      <td>54.0</td>\n",
       "      <td>31_40</td>\n",
       "    </tr>\n",
       "    <tr>\n",
       "      <th>4</th>\n",
       "      <td>deu</td>\n",
       "      <td>android</td>\n",
       "      <td>female</td>\n",
       "      <td>36</td>\n",
       "      <td>49.0</td>\n",
       "      <td>31_40</td>\n",
       "    </tr>\n",
       "  </tbody>\n",
       "</table>\n",
       "</div>"
      ],
      "text/plain": [
       "  COUNTRY   SOURCE     SEX  AGE  PRICE AGE_CAT\n",
       "0     bra  android    male   46   59.0   41_70\n",
       "1     usa  android    male   36   59.0   31_40\n",
       "2     fra  android  female   24   59.0   24_30\n",
       "3     usa      ios    male   32   54.0   31_40\n",
       "4     deu  android  female   36   49.0   31_40"
      ]
     },
     "execution_count": 206,
     "metadata": {},
     "output_type": "execute_result"
    }
   ],
   "source": [
    "def age_cat(age):\n",
    "    if age <= 18:\n",
    "        return '0_18'\n",
    "    elif 19 <= age <= 23:\n",
    "        return '19_23'\n",
    "    elif 24 <= age <= 30:\n",
    "        return '24_30'\n",
    "    elif 31 <= age <= 40:\n",
    "        return '31_40'\n",
    "    else:\n",
    "        return '41_70'\n",
    "\n",
    "agg_df['AGE_CAT'] = agg_df['AGE'].apply(age_cat)\n",
    "agg_df.head()\n"
   ]
  },
  {
   "cell_type": "markdown",
   "id": "5dd14bcc-e4be-4f4b-a901-60aecb7879ea",
   "metadata": {},
   "source": [
    "### Görev 6: Yeni seviye tabanlı müşterileri (persona) tanımlayınız."
   ]
  },
  {
   "cell_type": "code",
   "execution_count": 207,
   "id": "3d5b74c3",
   "metadata": {},
   "outputs": [
    {
     "data": {
      "text/html": [
       "<div>\n",
       "<style scoped>\n",
       "    .dataframe tbody tr th:only-of-type {\n",
       "        vertical-align: middle;\n",
       "    }\n",
       "\n",
       "    .dataframe tbody tr th {\n",
       "        vertical-align: top;\n",
       "    }\n",
       "\n",
       "    .dataframe thead th {\n",
       "        text-align: right;\n",
       "    }\n",
       "</style>\n",
       "<table border=\"1\" class=\"dataframe\">\n",
       "  <thead>\n",
       "    <tr style=\"text-align: right;\">\n",
       "      <th></th>\n",
       "      <th>customers_level_based</th>\n",
       "      <th>PRICE</th>\n",
       "    </tr>\n",
       "  </thead>\n",
       "  <tbody>\n",
       "    <tr>\n",
       "      <th>0</th>\n",
       "      <td>bra_android_female_0_18</td>\n",
       "      <td>35.645303</td>\n",
       "    </tr>\n",
       "    <tr>\n",
       "      <th>1</th>\n",
       "      <td>bra_android_female_19_23</td>\n",
       "      <td>34.077340</td>\n",
       "    </tr>\n",
       "    <tr>\n",
       "      <th>2</th>\n",
       "      <td>bra_android_female_24_30</td>\n",
       "      <td>33.863946</td>\n",
       "    </tr>\n",
       "    <tr>\n",
       "      <th>3</th>\n",
       "      <td>bra_android_female_31_40</td>\n",
       "      <td>34.898326</td>\n",
       "    </tr>\n",
       "    <tr>\n",
       "      <th>4</th>\n",
       "      <td>bra_android_female_41_70</td>\n",
       "      <td>36.737179</td>\n",
       "    </tr>\n",
       "  </tbody>\n",
       "</table>\n",
       "</div>"
      ],
      "text/plain": [
       "      customers_level_based      PRICE\n",
       "0   bra_android_female_0_18  35.645303\n",
       "1  bra_android_female_19_23  34.077340\n",
       "2  bra_android_female_24_30  33.863946\n",
       "3  bra_android_female_31_40  34.898326\n",
       "4  bra_android_female_41_70  36.737179"
      ]
     },
     "execution_count": 207,
     "metadata": {},
     "output_type": "execute_result"
    }
   ],
   "source": [
    "agg_df['customers_level_based'] = [row['COUNTRY'] + '_' + row['SOURCE'] + '_' + row['SEX'] + '_' + row['AGE_CAT'] for _, row in agg_df.iterrows()]\n",
    "\n",
    "# Yeni tanıma göre gruplandırıp ortalama PRICE'ı hesaplayalım\n",
    "agg_df = agg_df.groupby('customers_level_based').agg({'PRICE': 'mean'}).reset_index()\n",
    "agg_df.head()"
   ]
  },
  {
   "cell_type": "markdown",
   "id": "a8ee7449-0a33-480d-81ca-6d82d666fd53",
   "metadata": {},
   "source": [
    "### Görev 7: Yeni müşterileri (personaları) segmentlere ayırınız.\n"
   ]
  },
  {
   "cell_type": "code",
   "execution_count": 208,
   "id": "ffa2d5b9-ce15-4712-8760-ff3faf533e56",
   "metadata": {},
   "outputs": [
    {
     "name": "stderr",
     "output_type": "stream",
     "text": [
      "/var/folders/6l/1689rrm975gddmrdvvsjk0g80000gn/T/ipykernel_6912/3879739661.py:4: FutureWarning: The default of observed=False is deprecated and will be changed to True in a future version of pandas. Pass observed=False to retain current behavior or observed=True to adopt the future default and silence this warning.\n",
      "  segment_summary = agg_df.groupby('SEGMENT').agg({'PRICE': ['mean', 'max', 'sum']})\n"
     ]
    },
    {
     "data": {
      "text/html": [
       "<div>\n",
       "<style scoped>\n",
       "    .dataframe tbody tr th:only-of-type {\n",
       "        vertical-align: middle;\n",
       "    }\n",
       "\n",
       "    .dataframe tbody tr th {\n",
       "        vertical-align: top;\n",
       "    }\n",
       "\n",
       "    .dataframe thead th {\n",
       "        text-align: right;\n",
       "    }\n",
       "</style>\n",
       "<table border=\"1\" class=\"dataframe\">\n",
       "  <thead>\n",
       "    <tr style=\"text-align: right;\">\n",
       "      <th></th>\n",
       "      <th>customers_level_based</th>\n",
       "      <th>PRICE</th>\n",
       "      <th>SEGMENT</th>\n",
       "    </tr>\n",
       "  </thead>\n",
       "  <tbody>\n",
       "    <tr>\n",
       "      <th>0</th>\n",
       "      <td>bra_android_female_0_18</td>\n",
       "      <td>35.645303</td>\n",
       "      <td>B</td>\n",
       "    </tr>\n",
       "    <tr>\n",
       "      <th>1</th>\n",
       "      <td>bra_android_female_19_23</td>\n",
       "      <td>34.077340</td>\n",
       "      <td>C</td>\n",
       "    </tr>\n",
       "    <tr>\n",
       "      <th>2</th>\n",
       "      <td>bra_android_female_24_30</td>\n",
       "      <td>33.863946</td>\n",
       "      <td>C</td>\n",
       "    </tr>\n",
       "    <tr>\n",
       "      <th>3</th>\n",
       "      <td>bra_android_female_31_40</td>\n",
       "      <td>34.898326</td>\n",
       "      <td>B</td>\n",
       "    </tr>\n",
       "    <tr>\n",
       "      <th>4</th>\n",
       "      <td>bra_android_female_41_70</td>\n",
       "      <td>36.737179</td>\n",
       "      <td>A</td>\n",
       "    </tr>\n",
       "  </tbody>\n",
       "</table>\n",
       "</div>"
      ],
      "text/plain": [
       "      customers_level_based      PRICE SEGMENT\n",
       "0   bra_android_female_0_18  35.645303       B\n",
       "1  bra_android_female_19_23  34.077340       C\n",
       "2  bra_android_female_24_30  33.863946       C\n",
       "3  bra_android_female_31_40  34.898326       B\n",
       "4  bra_android_female_41_70  36.737179       A"
      ]
     },
     "execution_count": 208,
     "metadata": {},
     "output_type": "execute_result"
    }
   ],
   "source": [
    "agg_df['SEGMENT'] = pd.qcut(agg_df['PRICE'], 4, labels=['D', 'C', 'B', 'A'])\n",
    "\n",
    "segment_summary = agg_df.groupby('SEGMENT').agg({'PRICE': ['mean', 'max', 'sum']})\n",
    "segment_summary\n",
    "\n",
    "agg_df.head()"
   ]
  },
  {
   "cell_type": "markdown",
   "id": "c9f65e95-d293-4a11-97f2-9b750b8fc100",
   "metadata": {},
   "source": [
    "### Görev 8: Yeni gelen müşterileri sınıflandırıp, ne kadar gelir getirebileceklerini tahmin ediniz.\n"
   ]
  },
  {
   "cell_type": "code",
   "execution_count": 239,
   "id": "590fd85a-1b4a-45ca-acab-fd416905ec5b",
   "metadata": {},
   "outputs": [
    {
     "data": {
      "text/plain": [
       "'Bu müşteri profili veri setimizde bulunmamaktadır.'"
      ]
     },
     "execution_count": 239,
     "metadata": {},
     "output_type": "execute_result"
    }
   ],
   "source": [
    "\n",
    "def get_age_cat(age):\n",
    "    if age <= 18:\n",
    "        return '0_18'\n",
    "    elif 19 <= age <= 23:\n",
    "        return '19_23'\n",
    "    elif 24 <= age <= 30:\n",
    "        return '24_30'\n",
    "    elif 31 <= age <= 40:\n",
    "        return '31_40'\n",
    "    else:\n",
    "        return '41_70'\n",
    "\n",
    "def classify_customer(country, source, sex, age):\n",
    "    age_category = get_age_cat(age)\n",
    "    customer_level_based = f\"{country.upper()}_{source.upper()}_{sex.upper()}_{age_category}\"\n",
    "    \n",
    "    customer_info = agg_df[agg_df['customers_level_based'] == customer_level_based]\n",
    "    \n",
    "    if customer_info.empty:\n",
    "        return \"Bu müşteri profili veri setimizde bulunmamaktadır.\"\n",
    "    else:\n",
    "        segment = customer_info['SEGMENT'].values[0]\n",
    "        expected_price = customer_info['PRICE'].values[0]\n",
    "        return f\"Müşteri segmenti: {segment}, Tahmini ortalama gelir: {expected_price:.2f}\"\n",
    "\n",
    "# Örnek kullanım:\n",
    "classify_customer('can', 'ios', 'male', 23)"
   ]
  },
  {
   "cell_type": "code",
   "execution_count": null,
   "id": "4eae0994-22a0-46d7-b757-d56c274b1ef6",
   "metadata": {},
   "outputs": [],
   "source": []
  },
  {
   "cell_type": "code",
   "execution_count": null,
   "id": "17a951c6-aac3-4894-bd61-286f4c4d2a34",
   "metadata": {},
   "outputs": [],
   "source": []
  },
  {
   "cell_type": "code",
   "execution_count": null,
   "id": "990c4e65-2ded-4ca4-9c41-b65e09c71500",
   "metadata": {},
   "outputs": [],
   "source": []
  },
  {
   "cell_type": "code",
   "execution_count": null,
   "id": "31f134e8-f218-41c7-8911-114a770f03a9",
   "metadata": {},
   "outputs": [],
   "source": []
  },
  {
   "cell_type": "code",
   "execution_count": null,
   "id": "3e7c17f5-f112-4832-a68e-784211553619",
   "metadata": {},
   "outputs": [],
   "source": []
  },
  {
   "cell_type": "code",
   "execution_count": null,
   "id": "d8b4f811-fcfd-4f6e-8c65-22599ea04b8c",
   "metadata": {},
   "outputs": [],
   "source": []
  },
  {
   "cell_type": "code",
   "execution_count": null,
   "id": "ac0573b6-98db-4eae-90d6-1bb6685c4d00",
   "metadata": {},
   "outputs": [],
   "source": []
  }
 ],
 "metadata": {
  "kernelspec": {
   "display_name": "Python 3 (ipykernel)",
   "language": "python",
   "name": "python3"
  },
  "language_info": {
   "codemirror_mode": {
    "name": "ipython",
    "version": 3
   },
   "file_extension": ".py",
   "mimetype": "text/x-python",
   "name": "python",
   "nbconvert_exporter": "python",
   "pygments_lexer": "ipython3",
   "version": "3.12.4"
  }
 },
 "nbformat": 4,
 "nbformat_minor": 5
}
