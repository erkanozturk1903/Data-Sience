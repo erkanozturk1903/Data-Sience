{
 "cells": [
  {
   "cell_type": "code",
   "execution_count": 26,
   "id": "6fdb946d-7e58-4a50-b064-834480afb177",
   "metadata": {},
   "outputs": [],
   "source": [
    "import pandas as pd\n",
    "import numpy as np\n",
    "from sklearn.compose import ColumnTransformer\n",
    "from sklearn.preprocessing import OneHotEncoder, LabelEncoder"
   ]
  },
  {
   "cell_type": "markdown",
   "id": "24fb4199-1fd6-4e61-8fc4-2975dad5d22d",
   "metadata": {},
   "source": [
    "- pandas (pd): Veri manipülasyonu ve analizi için kullanılan bir kütüphane.\n",
    "- numpy (np): Bilimsel hesaplamalar için kullanılan bir kütüphane.\n",
    "- ColumnTransformer: Farklı sütunlara farklı dönüşümler uygulamak için kullanılır.\n",
    "- OneHotEncoder: Kategorik verileri sayısal formata dönüştürmek için kullanılır.\n",
    "- LabelEncoder: Etiketleri sayısal değerlere dönüştürmek için kullanılır."
   ]
  },
  {
   "cell_type": "code",
   "execution_count": 27,
   "id": "08934faa-182a-429e-89f2-476a0ba1b86a",
   "metadata": {},
   "outputs": [],
   "source": [
    "dataset = pd.read_csv('titanic.csv')"
   ]
  },
  {
   "cell_type": "markdown",
   "id": "df411f5e-0630-4f88-af62-8c415e3011f8",
   "metadata": {},
   "source": [
    "- Bu satır, 'titanic.csv' dosyasını pandas DataFrame'ine yükler."
   ]
  },
  {
   "cell_type": "code",
   "execution_count": 28,
   "id": "c61e3557-4145-44e5-9442-7d37229a79f6",
   "metadata": {},
   "outputs": [
    {
     "name": "stdout",
     "output_type": "stream",
     "text": [
      "<class 'pandas.core.frame.DataFrame'>\n",
      "RangeIndex: 183 entries, 0 to 182\n",
      "Data columns (total 12 columns):\n",
      " #   Column       Non-Null Count  Dtype  \n",
      "---  ------       --------------  -----  \n",
      " 0   PassengerId  183 non-null    int64  \n",
      " 1   Survived     183 non-null    int64  \n",
      " 2   Pclass       183 non-null    int64  \n",
      " 3   Name         183 non-null    object \n",
      " 4   Sex          183 non-null    object \n",
      " 5   Age          183 non-null    float64\n",
      " 6   SibSp        183 non-null    int64  \n",
      " 7   Parch        183 non-null    int64  \n",
      " 8   Ticket       183 non-null    object \n",
      " 9   Fare         183 non-null    float64\n",
      " 10  Cabin        183 non-null    object \n",
      " 11  Embarked     183 non-null    object \n",
      "dtypes: float64(2), int64(5), object(5)\n",
      "memory usage: 17.3+ KB\n",
      "\n",
      "Veri setinin ilk birkaç satırı:\n"
     ]
    },
    {
     "data": {
      "text/html": [
       "<div>\n",
       "<style scoped>\n",
       "    .dataframe tbody tr th:only-of-type {\n",
       "        vertical-align: middle;\n",
       "    }\n",
       "\n",
       "    .dataframe tbody tr th {\n",
       "        vertical-align: top;\n",
       "    }\n",
       "\n",
       "    .dataframe thead th {\n",
       "        text-align: right;\n",
       "    }\n",
       "</style>\n",
       "<table border=\"1\" class=\"dataframe\">\n",
       "  <thead>\n",
       "    <tr style=\"text-align: right;\">\n",
       "      <th></th>\n",
       "      <th>PassengerId</th>\n",
       "      <th>Survived</th>\n",
       "      <th>Pclass</th>\n",
       "      <th>Name</th>\n",
       "      <th>Sex</th>\n",
       "      <th>Age</th>\n",
       "      <th>SibSp</th>\n",
       "      <th>Parch</th>\n",
       "      <th>Ticket</th>\n",
       "      <th>Fare</th>\n",
       "      <th>Cabin</th>\n",
       "      <th>Embarked</th>\n",
       "    </tr>\n",
       "  </thead>\n",
       "  <tbody>\n",
       "    <tr>\n",
       "      <th>0</th>\n",
       "      <td>2</td>\n",
       "      <td>1</td>\n",
       "      <td>1</td>\n",
       "      <td>Cumings, Mrs. John Bradley (Florence Briggs Th...</td>\n",
       "      <td>female</td>\n",
       "      <td>38.0</td>\n",
       "      <td>1</td>\n",
       "      <td>0</td>\n",
       "      <td>PC 17599</td>\n",
       "      <td>71.2833</td>\n",
       "      <td>C85</td>\n",
       "      <td>C</td>\n",
       "    </tr>\n",
       "    <tr>\n",
       "      <th>1</th>\n",
       "      <td>4</td>\n",
       "      <td>1</td>\n",
       "      <td>1</td>\n",
       "      <td>Futrelle, Mrs. Jacques Heath (Lily May Peel)</td>\n",
       "      <td>female</td>\n",
       "      <td>35.0</td>\n",
       "      <td>1</td>\n",
       "      <td>0</td>\n",
       "      <td>113803</td>\n",
       "      <td>53.1000</td>\n",
       "      <td>C123</td>\n",
       "      <td>S</td>\n",
       "    </tr>\n",
       "    <tr>\n",
       "      <th>2</th>\n",
       "      <td>7</td>\n",
       "      <td>0</td>\n",
       "      <td>1</td>\n",
       "      <td>McCarthy, Mr. Timothy J</td>\n",
       "      <td>male</td>\n",
       "      <td>54.0</td>\n",
       "      <td>0</td>\n",
       "      <td>0</td>\n",
       "      <td>17463</td>\n",
       "      <td>51.8625</td>\n",
       "      <td>E46</td>\n",
       "      <td>S</td>\n",
       "    </tr>\n",
       "    <tr>\n",
       "      <th>3</th>\n",
       "      <td>11</td>\n",
       "      <td>1</td>\n",
       "      <td>3</td>\n",
       "      <td>Sandstrom, Miss. Marguerite Rut</td>\n",
       "      <td>female</td>\n",
       "      <td>4.0</td>\n",
       "      <td>1</td>\n",
       "      <td>1</td>\n",
       "      <td>PP 9549</td>\n",
       "      <td>16.7000</td>\n",
       "      <td>G6</td>\n",
       "      <td>S</td>\n",
       "    </tr>\n",
       "    <tr>\n",
       "      <th>4</th>\n",
       "      <td>12</td>\n",
       "      <td>1</td>\n",
       "      <td>1</td>\n",
       "      <td>Bonnell, Miss. Elizabeth</td>\n",
       "      <td>female</td>\n",
       "      <td>58.0</td>\n",
       "      <td>0</td>\n",
       "      <td>0</td>\n",
       "      <td>113783</td>\n",
       "      <td>26.5500</td>\n",
       "      <td>C103</td>\n",
       "      <td>S</td>\n",
       "    </tr>\n",
       "  </tbody>\n",
       "</table>\n",
       "</div>"
      ],
      "text/plain": [
       "   PassengerId  Survived  Pclass  \\\n",
       "0            2         1       1   \n",
       "1            4         1       1   \n",
       "2            7         0       1   \n",
       "3           11         1       3   \n",
       "4           12         1       1   \n",
       "\n",
       "                                                Name     Sex   Age  SibSp  \\\n",
       "0  Cumings, Mrs. John Bradley (Florence Briggs Th...  female  38.0      1   \n",
       "1       Futrelle, Mrs. Jacques Heath (Lily May Peel)  female  35.0      1   \n",
       "2                            McCarthy, Mr. Timothy J    male  54.0      0   \n",
       "3                    Sandstrom, Miss. Marguerite Rut  female   4.0      1   \n",
       "4                           Bonnell, Miss. Elizabeth  female  58.0      0   \n",
       "\n",
       "   Parch    Ticket     Fare Cabin Embarked  \n",
       "0      0  PC 17599  71.2833   C85        C  \n",
       "1      0    113803  53.1000  C123        S  \n",
       "2      0     17463  51.8625   E46        S  \n",
       "3      1   PP 9549  16.7000    G6        S  \n",
       "4      0    113783  26.5500  C103        S  "
      ]
     },
     "execution_count": 28,
     "metadata": {},
     "output_type": "execute_result"
    }
   ],
   "source": [
    "# Veri setinin yapısını inceleme\n",
    "dataset.info()\n",
    "print(\"\\nVeri setinin ilk birkaç satırı:\")\n",
    "dataset.head()"
   ]
  },
  {
   "cell_type": "markdown",
   "id": "e5654373-ebde-437b-9409-4d295b9e72ea",
   "metadata": {},
   "source": [
    "- info(): Veri seti hakkında genel bilgi verir (sütun isimleri, veri tipleri, eksik değerler).\n",
    "- head(): İlk birkaç satırı gösterir."
   ]
  },
  {
   "cell_type": "code",
   "execution_count": 29,
   "id": "a5bfb5f2-b52f-406f-bd99-5c5beb8729e5",
   "metadata": {},
   "outputs": [
    {
     "name": "stdout",
     "output_type": "stream",
     "text": [
      "\n",
      "Kategorik özellikler: ['Pclass', 'Sex', 'Embarked']\n"
     ]
    }
   ],
   "source": [
    "categorical_features = ['Pclass', 'Sex', 'Embarked']\n",
    "print(\"\\nKategorik özellikler:\", categorical_features)"
   ]
  },
  {
   "cell_type": "markdown",
   "id": "268eeb90-55c8-4a3e-83b6-28e00a7ab9dd",
   "metadata": {},
   "source": [
    " - Kategorik olarak işlenecek özellikleri belirler."
   ]
  },
  {
   "cell_type": "code",
   "execution_count": 30,
   "id": "e889ea6d-4d39-4a41-bb99-99c7fd5bd34e",
   "metadata": {},
   "outputs": [],
   "source": [
    "ct = ColumnTransformer(\n",
    "    transformers=[('encoder', OneHotEncoder(), categorical_features)],\n",
    "    remainder='passthrough')"
   ]
  },
  {
   "cell_type": "markdown",
   "id": "9bfbede7-cc47-4e4c-ac6b-aa8ef3cb36bd",
   "metadata": {},
   "source": [
    "- Bu, kategorik özelliklere OneHotEncoder uygulamak için bir ColumnTransformer oluşturur. 'remainder='passthrough'' diğer sütunları olduğu gibi bırakır."
   ]
  },
  {
   "cell_type": "code",
   "execution_count": 31,
   "id": "9511b54a-78a2-46d1-bc07-9e5943efb6af",
   "metadata": {},
   "outputs": [],
   "source": [
    "X_encoded = ct.fit_transform(dataset)"
   ]
  },
  {
   "cell_type": "markdown",
   "id": "7ca524ef-582b-46df-ad76-124ca85de517",
   "metadata": {},
   "source": [
    "- ColumnTransformer'ı veri setine uygular, kategorik verileri one-hot encode eder."
   ]
  },
  {
   "cell_type": "code",
   "execution_count": 32,
   "id": "ae525d9d-0848-4fe8-a308-386c8218ded7",
   "metadata": {},
   "outputs": [],
   "source": [
    "X = np.array(X)"
   ]
  },
  {
   "cell_type": "markdown",
   "id": "ce5f7b1e-7d01-4dd9-9a25-8b80adf2afc8",
   "metadata": {},
   "source": [
    "- Kodlanmış veriyi NumPy dizisine dönüştürür."
   ]
  },
  {
   "cell_type": "code",
   "execution_count": 33,
   "id": "d391e65e-760a-4e8d-bc1b-0eaddd17161a",
   "metadata": {},
   "outputs": [],
   "source": [
    "le = LabelEncoder()\n",
    "y = le.fit_transform(dataset['Survived'])"
   ]
  },
  {
   "cell_type": "markdown",
   "id": "29cf9ba4-82a7-4116-90cb-cd9c8137c55e",
   "metadata": {},
   "source": [
    "- Bu, 'Survived' sütununu sayısal etiketlere dönüştürür (0 ve 1)."
   ]
  },
  {
   "cell_type": "code",
   "execution_count": 34,
   "id": "30e93fc0-6ef0-4791-9950-2806db8fe41c",
   "metadata": {},
   "outputs": [
    {
     "name": "stdout",
     "output_type": "stream",
     "text": [
      "Güncellenmiş özellik matrisi:\n",
      "[[0.0 0.0 0.0 ... 'PC 17599' 71.2833 'C85']\n",
      " [0.0 0.0 1.0 ... '113803' 53.1 'C123']\n",
      " [1.0 0.0 1.0 ... '17463' 51.8625 'E46']\n",
      " ...\n",
      " [0.0 0.0 0.0 ... '11767' 83.1583 'C50']\n",
      " [0.0 0.0 1.0 ... '112053' 30.0 'B42']\n",
      " [1.0 0.0 0.0 ... '111369' 30.0 'C148']]\n",
      "\n",
      "Bağımlı değişken vektörü:\n",
      "[1 1 0 1 1 1 1 0 1 0 0 1 0 1 0 0 1 0 0 0 1 0 1 0 0 0 1 0 0 0 1 1 1 1 0 1 1\n",
      " 1 1 1 0 1 0 0 1 0 0 1 1 0 1 1 0 0 1 1 1 1 1 1 1 1 1 1 1 0 0 0 1 0 1 1 1 1\n",
      " 1 1 1 0 1 1 1 1 1 1 0 1 0 1 1 0 1 0 1 0 1 1 1 0 0 1 0 1 0 1 0 1 1 1 0 1 1\n",
      " 0 1 1 1 1 1 1 1 0 1 1 1 1 1 1 1 0 1 1 1 1 1 1 0 0 0 1 1 1 1 0 0 1 1 1 1 1\n",
      " 0 1 1 1 1 1 0 1 0 0 1 1 1 1 0 1 1 0 0 1 1 0 1 1 1 1 1 1 1 0 1 0 1 1 1]\n"
     ]
    }
   ],
   "source": [
    "print(\"Güncellenmiş özellik matrisi:\")\n",
    "print(X)\n",
    "print(\"\\nBağımlı değişken vektörü:\")\n",
    "print(y)"
   ]
  },
  {
   "cell_type": "code",
   "execution_count": null,
   "id": "0c3b28bb-4248-4dc3-b37d-eacc9451557d",
   "metadata": {},
   "outputs": [],
   "source": []
  }
 ],
 "metadata": {
  "kernelspec": {
   "display_name": "Python 3 (ipykernel)",
   "language": "python",
   "name": "python3"
  },
  "language_info": {
   "codemirror_mode": {
    "name": "ipython",
    "version": 3
   },
   "file_extension": ".py",
   "mimetype": "text/x-python",
   "name": "python",
   "nbconvert_exporter": "python",
   "pygments_lexer": "ipython3",
   "version": "3.12.4"
  }
 },
 "nbformat": 4,
 "nbformat_minor": 5
}
